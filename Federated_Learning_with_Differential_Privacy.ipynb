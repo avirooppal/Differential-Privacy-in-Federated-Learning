{
  "metadata": {
    "kernelspec": {
      "language": "python",
      "display_name": "Python 3",
      "name": "python3"
    },
    "language_info": {
      "name": "python",
      "version": "3.11.11",
      "mimetype": "text/x-python",
      "codemirror_mode": {
        "name": "ipython",
        "version": 3
      },
      "pygments_lexer": "ipython3",
      "nbconvert_exporter": "python",
      "file_extension": ".py"
    },
    "kaggle": {
      "accelerator": "none",
      "dataSources": [],
      "dockerImageVersionId": 31040,
      "isInternetEnabled": true,
      "language": "python",
      "sourceType": "notebook",
      "isGpuEnabled": false
    },
    "colab": {
      "name": "Federated Learning with Differential Privacy",
      "provenance": [],
      "include_colab_link": true
    }
  },
  "nbformat_minor": 0,
  "nbformat": 4,
  "cells": [
    {
      "cell_type": "markdown",
      "metadata": {
        "id": "view-in-github",
        "colab_type": "text"
      },
      "source": [
        "<a href=\"https://colab.research.google.com/github/avirooppal/Differential-Privacy-in-Federated-Learning/blob/main/Federated_Learning_with_Differential_Privacy.ipynb\" target=\"_parent\"><img src=\"https://colab.research.google.com/assets/colab-badge.svg\" alt=\"Open In Colab\"/></a>"
      ]
    },
    {
      "cell_type": "code",
      "source": [
        "# This Python 3 environment comes with many helpful analytics libraries installed\n",
        "# It is defined by the kaggle/python Docker image: https://github.com/kaggle/docker-python\n",
        "# For example, here's several helpful packages to load\n",
        "\n",
        "import numpy as np # linear algebra\n",
        "import pandas as pd # data processing, CSV file I/O (e.g. pd.read_csv)\n",
        "\n",
        "# Input data files are available in the read-only \"../input/\" directory\n",
        "# For example, running this (by clicking run or pressing Shift+Enter) will list all files under the input directory\n",
        "\n",
        "import os\n",
        "for dirname, _, filenames in os.walk('/kaggle/input'):\n",
        "    for filename in filenames:\n",
        "        print(os.path.join(dirname, filename))\n",
        "\n",
        "# You can write up to 20GB to the current directory (/kaggle/working/) that gets preserved as output when you create a version using \"Save & Run All\"\n",
        "# You can also write temporary files to /kaggle/temp/, but they won't be saved outside of the current session"
      ],
      "metadata": {
        "_uuid": "8f2839f25d086af736a60e9eeb907d3b93b6e0e5",
        "_cell_guid": "b1076dfc-b9ad-4769-8c92-a6c4dae69d19",
        "trusted": true,
        "execution": {
          "iopub.status.busy": "2025-06-17T07:59:01.051329Z",
          "iopub.execute_input": "2025-06-17T07:59:01.051615Z",
          "iopub.status.idle": "2025-06-17T07:59:01.392743Z",
          "shell.execute_reply.started": "2025-06-17T07:59:01.051594Z",
          "shell.execute_reply": "2025-06-17T07:59:01.391723Z"
        },
        "id": "tan9prLvPQZ9"
      },
      "outputs": [],
      "execution_count": null
    },
    {
      "cell_type": "code",
      "source": [
        "!pip install numpy matplotlib"
      ],
      "metadata": {
        "trusted": true,
        "execution": {
          "iopub.status.busy": "2025-06-17T07:59:03.341968Z",
          "iopub.execute_input": "2025-06-17T07:59:03.342465Z",
          "iopub.status.idle": "2025-06-17T07:59:06.904176Z",
          "shell.execute_reply.started": "2025-06-17T07:59:03.342441Z",
          "shell.execute_reply": "2025-06-17T07:59:06.903208Z"
        },
        "id": "w7n1Dw3TPQZ_",
        "outputId": "8cbba9fc-641e-4bf4-9bf7-602534f7a2e9"
      },
      "outputs": [
        {
          "name": "stdout",
          "text": "Requirement already satisfied: numpy in /usr/local/lib/python3.11/dist-packages (1.26.4)\nRequirement already satisfied: matplotlib in /usr/local/lib/python3.11/dist-packages (3.7.2)\nRequirement already satisfied: mkl_fft in /usr/local/lib/python3.11/dist-packages (from numpy) (1.3.8)\nRequirement already satisfied: mkl_random in /usr/local/lib/python3.11/dist-packages (from numpy) (1.2.4)\nRequirement already satisfied: mkl_umath in /usr/local/lib/python3.11/dist-packages (from numpy) (0.1.1)\nRequirement already satisfied: mkl in /usr/local/lib/python3.11/dist-packages (from numpy) (2025.1.0)\nRequirement already satisfied: tbb4py in /usr/local/lib/python3.11/dist-packages (from numpy) (2022.1.0)\nRequirement already satisfied: mkl-service in /usr/local/lib/python3.11/dist-packages (from numpy) (2.4.1)\nRequirement already satisfied: contourpy>=1.0.1 in /usr/local/lib/python3.11/dist-packages (from matplotlib) (1.3.1)\nRequirement already satisfied: cycler>=0.10 in /usr/local/lib/python3.11/dist-packages (from matplotlib) (0.12.1)\nRequirement already satisfied: fonttools>=4.22.0 in /usr/local/lib/python3.11/dist-packages (from matplotlib) (4.57.0)\nRequirement already satisfied: kiwisolver>=1.0.1 in /usr/local/lib/python3.11/dist-packages (from matplotlib) (1.4.8)\nRequirement already satisfied: packaging>=20.0 in /usr/local/lib/python3.11/dist-packages (from matplotlib) (25.0)\nRequirement already satisfied: pillow>=6.2.0 in /usr/local/lib/python3.11/dist-packages (from matplotlib) (11.1.0)\nRequirement already satisfied: pyparsing<3.1,>=2.3.1 in /usr/local/lib/python3.11/dist-packages (from matplotlib) (3.0.9)\nRequirement already satisfied: python-dateutil>=2.7 in /usr/local/lib/python3.11/dist-packages (from matplotlib) (2.9.0.post0)\nRequirement already satisfied: six>=1.5 in /usr/local/lib/python3.11/dist-packages (from python-dateutil>=2.7->matplotlib) (1.17.0)\nRequirement already satisfied: intel-openmp<2026,>=2024 in /usr/local/lib/python3.11/dist-packages (from mkl->numpy) (2024.2.0)\nRequirement already satisfied: tbb==2022.* in /usr/local/lib/python3.11/dist-packages (from mkl->numpy) (2022.1.0)\nRequirement already satisfied: tcmlib==1.* in /usr/local/lib/python3.11/dist-packages (from tbb==2022.*->mkl->numpy) (1.3.0)\nRequirement already satisfied: intel-cmplr-lib-rt in /usr/local/lib/python3.11/dist-packages (from mkl_umath->numpy) (2024.2.0)\nRequirement already satisfied: intel-cmplr-lib-ur==2024.2.0 in /usr/local/lib/python3.11/dist-packages (from intel-openmp<2026,>=2024->mkl->numpy) (2024.2.0)\n",
          "output_type": "stream"
        }
      ],
      "execution_count": null
    },
    {
      "cell_type": "markdown",
      "source": [
        "Scenario-\n",
        "Two IoT devices (e.g., GPS trackers) collect 2D location data (latitude, longitude). They want to collaboratively build a global model (e.g., average location), without exposing their private data.\n",
        "\n",
        "How It Works-\n",
        "Data Simulation: Each device generates 100 samples of 2D location data.\n",
        "Local Training: Devices compute the mean of their local data.\n",
        "Differential Privacy: Laplace noise is added to each local update.\n",
        "Global Aggregation: The server averages the noisy updates to produce a global model.\n",
        "\n",
        "Key Points-\n",
        "Protects privacy using the Laplace Mechanism.\n",
        "Enables decentralized collaboration without sharing raw data."
      ],
      "metadata": {
        "id": "fF4BtGjUPQaA"
      }
    },
    {
      "cell_type": "code",
      "source": [
        "import numpy as np\n",
        "import matplotlib.pyplot as plt\n",
        "\n",
        "np.random.seed(42)\n",
        "\n",
        "def generate_device_data(n_samples=100):\n",
        "    return np.random.rand(n_samples, 2)\n",
        "\n",
        "def local_train(data):\n",
        "    return np.mean(data, axis=0)\n",
        "\n",
        "def add_dp_noise(update, epsilon=1.0, sensitivity=1.0):\n",
        "    scale = sensitivity / epsilon\n",
        "    noise = np.random.laplace(0, scale, size=update.shape)\n",
        "    return update + noise\n",
        "\n",
        "device_counts = [2, 5, 10, 20, 50, 100]\n",
        "errors = []\n",
        "\n",
        "for num_devices in device_counts:\n",
        "    updates = []\n",
        "    dp_updates = []\n",
        "\n",
        "    for _ in range(num_devices):\n",
        "        data = generate_device_data()\n",
        "        local_update = local_train(data)\n",
        "        dp_update = add_dp_noise(local_update, epsilon=1.0)\n",
        "        updates.append(local_update)\n",
        "        dp_updates.append(dp_update)\n",
        "\n",
        "    true_global = np.mean(updates, axis=0)\n",
        "    dp_global = np.mean(dp_updates, axis=0)\n",
        "\n",
        "    error = np.linalg.norm(dp_global - true_global)\n",
        "    errors.append(error)\n",
        "\n",
        "    print(f\"\\nDevices: {num_devices}\")\n",
        "    print(\"True Global Mean:\", true_global)\n",
        "    print(\"DP Global Mean  :\", dp_global)\n",
        "    print(\"Error (L2 norm) :\", error)\n",
        "\n",
        "\n",
        "plt.figure(figsize=(8, 5))\n",
        "plt.plot(device_counts, errors, marker='o')\n",
        "plt.title(\"DP Error vs Number of Devices\")\n",
        "plt.xlabel(\"Number of Devices\")\n",
        "plt.ylabel(\"Error (L2 norm)\")\n",
        "plt.grid(True)\n",
        "plt.tight_layout()\n",
        "plt.show()"
      ],
      "metadata": {
        "trusted": true,
        "execution": {
          "iopub.status.busy": "2025-06-17T08:02:13.520827Z",
          "iopub.execute_input": "2025-06-17T08:02:13.521187Z",
          "iopub.status.idle": "2025-06-17T08:02:13.923095Z",
          "shell.execute_reply.started": "2025-06-17T08:02:13.52116Z",
          "shell.execute_reply": "2025-06-17T08:02:13.922118Z"
        },
        "id": "udD5z8vhPQaC",
        "outputId": "e72cb433-b598-45c3-87a4-fe4b3d876cda"
      },
      "outputs": [
        {
          "name": "stdout",
          "text": "\nDevices: 2\nTrue Global Mean: [0.49562385 0.49415505]\nDP Global Mean  : [0.66798576 0.13218452]\nError (L2 norm) : 0.4009130738007136\n\nDevices: 5\nTrue Global Mean: [0.48130526 0.51663662]\nDP Global Mean  : [0.30877828 0.42250559]\nError (L2 norm) : 0.19653552257010717\n\nDevices: 10\nTrue Global Mean: [0.50027397 0.49768103]\nDP Global Mean  : [0.36901432 0.79632105]\nError (L2 norm) : 0.32621306129493655\n\nDevices: 20\nTrue Global Mean: [0.49528607 0.4917847 ]\nDP Global Mean  : [0.59924901 0.3824297 ]\nError (L2 norm) : 0.15088674051236656\n\nDevices: 50\nTrue Global Mean: [0.5019951  0.49783039]\nDP Global Mean  : [0.4620374  0.56900904]\nError (L2 norm) : 0.08162731149816871\n\nDevices: 100\nTrue Global Mean: [0.50013106 0.50187032]\nDP Global Mean  : [0.48696966 0.32696567]\nError (L2 norm) : 0.17539914618098787\n",
          "output_type": "stream"
        },
        {
          "output_type": "display_data",
          "data": {
            "text/plain": "<Figure size 800x500 with 1 Axes>",
            "image/png": "[encoded data removed]"
          },
          "metadata": {}
        }
      ],
      "execution_count": null
    },
    {
      "cell_type": "markdown",
      "source": [
        "Federated Learning with DP for N Users —\n",
        "This uses:\n",
        "\n",
        "MNIST\n",
        "\n",
        "Simulated FL with any number of clients\n",
        "\n",
        "Manual DP (gradient clipping + Gaussian noise)"
      ],
      "metadata": {
        "id": "p-0W1QIZPQaD"
      }
    },
    {
      "cell_type": "code",
      "source": [
        "import torch\n",
        "import torch.nn as nn\n",
        "import torch.nn.functional as F\n",
        "import torch.optim as optim\n",
        "from torchvision import datasets, transforms\n",
        "from torch.utils.data import DataLoader, Subset\n",
        "import numpy as np\n",
        "import matplotlib.pyplot as plt\n",
        "import random\n",
        "import copy"
      ],
      "metadata": {
        "trusted": true,
        "execution": {
          "iopub.status.busy": "2025-06-18T18:04:22.28432Z",
          "iopub.execute_input": "2025-06-18T18:04:22.284688Z",
          "iopub.status.idle": "2025-06-18T18:04:22.290427Z",
          "shell.execute_reply.started": "2025-06-18T18:04:22.284659Z",
          "shell.execute_reply": "2025-06-18T18:04:22.289401Z"
        },
        "id": "rLHcwWcbPQaE"
      },
      "outputs": [],
      "execution_count": null
    },
    {
      "cell_type": "code",
      "source": [
        "torch.manual_seed(42)\n",
        "np.random.seed(42)\n",
        "random.seed(42)"
      ],
      "metadata": {
        "trusted": true,
        "execution": {
          "iopub.status.busy": "2025-06-18T18:04:32.307618Z",
          "iopub.execute_input": "2025-06-18T18:04:32.308001Z",
          "iopub.status.idle": "2025-06-18T18:04:32.320227Z",
          "shell.execute_reply.started": "2025-06-18T18:04:32.307977Z",
          "shell.execute_reply": "2025-06-18T18:04:32.31911Z"
        },
        "id": "V0NhHHypPQaE"
      },
      "outputs": [],
      "execution_count": null
    },
    {
      "cell_type": "code",
      "source": [
        "NUM_USERS = 10\n",
        "BATCH_SIZE = 32\n",
        "ROUNDS = 10\n",
        "EPOCHS_PER_CLIENT = 1\n",
        "CLIP_NORM = 1.0\n",
        "NOISE_MULTIPLIER = 1.0\n",
        "LEARNING_RATE = 0.1"
      ],
      "metadata": {
        "trusted": true,
        "execution": {
          "iopub.status.busy": "2025-06-18T18:04:41.628951Z",
          "iopub.execute_input": "2025-06-18T18:04:41.629293Z",
          "iopub.status.idle": "2025-06-18T18:04:41.634558Z",
          "shell.execute_reply.started": "2025-06-18T18:04:41.62927Z",
          "shell.execute_reply": "2025-06-18T18:04:41.633561Z"
        },
        "id": "o9L8ZFOYPQaF"
      },
      "outputs": [],
      "execution_count": null
    },
    {
      "cell_type": "code",
      "source": [
        "# Load MNIST dataset\n",
        "transform = transforms.ToTensor()\n",
        "full_dataset = datasets.MNIST('.', train=True, download=True, transform=transform)\n",
        "test_dataset = datasets.MNIST('.', train=False, transform=transform)\n",
        "test_loader = DataLoader(test_dataset, batch_size=128)"
      ],
      "metadata": {
        "trusted": true,
        "execution": {
          "iopub.status.busy": "2025-06-18T18:04:52.809378Z",
          "iopub.execute_input": "2025-06-18T18:04:52.809776Z",
          "iopub.status.idle": "2025-06-18T18:04:52.967108Z",
          "shell.execute_reply.started": "2025-06-18T18:04:52.809749Z",
          "shell.execute_reply": "2025-06-18T18:04:52.966142Z"
        },
        "id": "nQLU8mRPPQaG"
      },
      "outputs": [],
      "execution_count": null
    },
    {
      "cell_type": "code",
      "source": [
        "data_per_user = len(full_dataset) // NUM_USERS\n",
        "user_datasets = [Subset(full_dataset, list(range(i * data_per_user, (i + 1) * data_per_user))) for i in range(NUM_USERS)]"
      ],
      "metadata": {
        "trusted": true,
        "execution": {
          "iopub.status.busy": "2025-06-18T18:05:12.155Z",
          "iopub.execute_input": "2025-06-18T18:05:12.155346Z",
          "iopub.status.idle": "2025-06-18T18:05:12.164012Z",
          "shell.execute_reply.started": "2025-06-18T18:05:12.155324Z",
          "shell.execute_reply": "2025-06-18T18:05:12.162817Z"
        },
        "id": "xu0Ma_77PQaG"
      },
      "outputs": [],
      "execution_count": null
    },
    {
      "cell_type": "code",
      "source": [
        "class Net(nn.Module):\n",
        "    def __init__(self):\n",
        "        super().__init__()\n",
        "        self.fc = nn.Linear(28 * 28, 10)\n",
        "\n",
        "    def forward(self, x):\n",
        "        x = x.view(-1, 28 * 28)\n",
        "        return self.fc(x)"
      ],
      "metadata": {
        "trusted": true,
        "execution": {
          "iopub.status.busy": "2025-06-18T18:05:27.513055Z",
          "iopub.execute_input": "2025-06-18T18:05:27.5134Z",
          "iopub.status.idle": "2025-06-18T18:05:27.51933Z",
          "shell.execute_reply.started": "2025-06-18T18:05:27.513374Z",
          "shell.execute_reply": "2025-06-18T18:05:27.518145Z"
        },
        "id": "HiQBzg8fPQaG"
      },
      "outputs": [],
      "execution_count": null
    },
    {
      "cell_type": "code",
      "source": [
        "def train_local_dp(model, dataset, lr=0.1, epochs=1, clip=1.0, noise=1.0):\n",
        "    model = copy.deepcopy(model)\n",
        "    model.train()\n",
        "    optimizer = optim.SGD(model.parameters(), lr=lr)\n",
        "    loader = DataLoader(dataset, batch_size=BATCH_SIZE, shuffle=True)\n",
        "\n",
        "    for _ in range(epochs):\n",
        "        for x, y in loader:\n",
        "            optimizer.zero_grad()\n",
        "            output = model(x)\n",
        "            loss = F.cross_entropy(output, y)\n",
        "            loss.backward()\n",
        "\n",
        "            # Gradient clipping\n",
        "            total_norm = torch.sqrt(sum(p.grad.data.norm(2)**2 for p in model.parameters()))\n",
        "            clip_coef = clip / (total_norm + 1e-6)\n",
        "            if clip_coef < 1.0:\n",
        "                for p in model.parameters():\n",
        "                    p.grad.data.mul_(clip_coef)\n",
        "\n",
        "            # Add Gaussian noise\n",
        "            for p in model.parameters():\n",
        "                noise_tensor = torch.normal(0, noise * clip, size=p.grad.shape)\n",
        "                p.grad.data.add_(noise_tensor)\n",
        "\n",
        "            optimizer.step()\n",
        "\n",
        "    return model.state_dict()"
      ],
      "metadata": {
        "trusted": true,
        "execution": {
          "iopub.status.busy": "2025-06-18T18:05:41.703585Z",
          "iopub.execute_input": "2025-06-18T18:05:41.70469Z",
          "iopub.status.idle": "2025-06-18T18:05:41.712578Z",
          "shell.execute_reply.started": "2025-06-18T18:05:41.704628Z",
          "shell.execute_reply": "2025-06-18T18:05:41.711376Z"
        },
        "id": "KA2Soa2VPQaH"
      },
      "outputs": [],
      "execution_count": null
    },
    {
      "cell_type": "code",
      "source": [
        "def average_models(models):\n",
        "    avg = copy.deepcopy(models[0])\n",
        "    for key in avg:\n",
        "        for i in range(1, len(models)):\n",
        "            avg[key] += models[i][key]\n",
        "        avg[key] /= len(models)\n",
        "    return avg"
      ],
      "metadata": {
        "trusted": true,
        "execution": {
          "iopub.status.busy": "2025-06-18T18:05:53.472053Z",
          "iopub.execute_input": "2025-06-18T18:05:53.472402Z",
          "iopub.status.idle": "2025-06-18T18:05:53.478257Z",
          "shell.execute_reply.started": "2025-06-18T18:05:53.472378Z",
          "shell.execute_reply": "2025-06-18T18:05:53.477177Z"
        },
        "id": "naCRg-HoPQaH"
      },
      "outputs": [],
      "execution_count": null
    },
    {
      "cell_type": "code",
      "source": [
        "def evaluate(model, loader):\n",
        "    model.eval()\n",
        "    correct = 0\n",
        "    with torch.no_grad():\n",
        "        for x, y in loader:\n",
        "            preds = model(x)\n",
        "            correct += (preds.argmax(1) == y).sum().item()\n",
        "    return correct / len(loader.dataset)"
      ],
      "metadata": {
        "trusted": true,
        "execution": {
          "iopub.status.busy": "2025-06-18T18:06:01.951906Z",
          "iopub.execute_input": "2025-06-18T18:06:01.952219Z",
          "iopub.status.idle": "2025-06-18T18:06:01.958333Z",
          "shell.execute_reply.started": "2025-06-18T18:06:01.952196Z",
          "shell.execute_reply": "2025-06-18T18:06:01.957176Z"
        },
        "id": "PYaXgZSjPQaI"
      },
      "outputs": [],
      "execution_count": null
    },
    {
      "cell_type": "code",
      "source": [
        "global_model = Net()\n",
        "accuracy_history = []\n",
        "\n",
        "for rnd in range(ROUNDS):\n",
        "    user_models = []\n",
        "    for user_data in user_datasets:\n",
        "        local_state = train_local_dp(\n",
        "            global_model,\n",
        "            user_data,\n",
        "            lr=LEARNING_RATE,\n",
        "            epochs=EPOCHS_PER_CLIENT,\n",
        "            clip=CLIP_NORM,\n",
        "            noise=NOISE_MULTIPLIER\n",
        "        )\n",
        "        user_models.append(local_state)\n",
        "\n",
        "    global_state = average_models(user_models)\n",
        "    global_model.load_state_dict(global_state)\n",
        "\n",
        "    acc = evaluate(global_model, test_loader)\n",
        "    accuracy_history.append(acc)\n",
        "    print(f\"Round {rnd+1} - Global Accuracy: {acc:.4f}\")"
      ],
      "metadata": {
        "trusted": true,
        "execution": {
          "iopub.status.busy": "2025-06-18T18:06:17.071617Z",
          "iopub.execute_input": "2025-06-18T18:06:17.0727Z",
          "iopub.status.idle": "2025-06-18T18:07:51.324486Z",
          "shell.execute_reply.started": "2025-06-18T18:06:17.072661Z",
          "shell.execute_reply": "2025-06-18T18:07:51.323456Z"
        },
        "id": "0zEOOkehPQaI",
        "outputId": "945dc7d5-d700-4bb2-c18f-b433d9ea96ac"
      },
      "outputs": [
        {
          "name": "stdout",
          "text": "Round 1 - Global Accuracy: 0.6146\nRound 2 - Global Accuracy: 0.6857\nRound 3 - Global Accuracy: 0.7250\nRound 4 - Global Accuracy: 0.7488\nRound 5 - Global Accuracy: 0.7531\nRound 6 - Global Accuracy: 0.7601\nRound 7 - Global Accuracy: 0.7763\nRound 8 - Global Accuracy: 0.7778\nRound 9 - Global Accuracy: 0.7808\nRound 10 - Global Accuracy: 0.7836\n",
          "output_type": "stream"
        }
      ],
      "execution_count": null
    },
    {
      "cell_type": "code",
      "source": [
        "plt.figure(figsize=(8, 5))\n",
        "plt.plot(range(1, ROUNDS + 1), accuracy_history, marker='o')\n",
        "plt.title(\"Federated Learning with DP: Test Accuracy over Rounds\")\n",
        "plt.xlabel(\"Communication Round\")\n",
        "plt.ylabel(\"Test Accuracy\")\n",
        "plt.grid(True)\n",
        "plt.ylim(0, 1)\n",
        "plt.show()"
      ],
      "metadata": {
        "trusted": true,
        "execution": {
          "iopub.status.busy": "2025-06-18T18:07:51.326004Z",
          "iopub.execute_input": "2025-06-18T18:07:51.326308Z",
          "iopub.status.idle": "2025-06-18T18:07:51.574669Z",
          "shell.execute_reply.started": "2025-06-18T18:07:51.326284Z",
          "shell.execute_reply": "2025-06-18T18:07:51.573867Z"
        },
        "id": "LBxZFz3TPQaI",
        "outputId": "d6f31552-66b6-44a6-b1d9-f128fc06c40b"
      },
      "outputs": [
        {
          "output_type": "display_data",
          "data": {
            "text/plain": "<Figure size 800x500 with 1 Axes>",
            "image/png": "[encoded data removed]"
          },
          "metadata": {}
        }
      ],
      "execution_count": null
    },
    {
      "cell_type": "code",
      "source": [],
      "metadata": {
        "trusted": true,
        "id": "MlQRWp9YPQaJ"
      },
      "outputs": [],
      "execution_count": null
    }
  ]
}